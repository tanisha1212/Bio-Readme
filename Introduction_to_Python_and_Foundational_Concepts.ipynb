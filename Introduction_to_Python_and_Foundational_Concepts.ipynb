{
  "nbformat": 4,
  "nbformat_minor": 0,
  "metadata": {
    "colab": {
      "provenance": [],
      "toc_visible": true,
      "include_colab_link": true
    },
    "kernelspec": {
      "name": "python3",
      "display_name": "Python 3"
    },
    "language_info": {
      "name": "python"
    }
  },
  "cells": [
    {
      "cell_type": "markdown",
      "metadata": {
        "id": "view-in-github",
        "colab_type": "text"
      },
      "source": [
        "<a href=\"https://colab.research.google.com/github/tanisha1212/Bio-Readme/blob/main/Introduction_to_Python_and_Foundational_Concepts.ipynb\" target=\"_parent\"><img src=\"https://colab.research.google.com/assets/colab-badge.svg\" alt=\"Open In Colab\"/></a>"
      ]
    },
    {
      "cell_type": "markdown",
      "source": [
        "# Workshop 1: Introduction to Python and Foundational Concepts\n",
        "\n",
        "## Objective:\n",
        "By the end of this workshop, you will:\n",
        "- Understand Python basics: variables, data types, loops, functions.\n",
        "- Write simple Python programs.\n",
        "- Complete a lab where you'll calculate monthly expenses and build a to-do list.\n",
        "\n",
        "---\n",
        "\n"
      ],
      "metadata": {
        "id": "tKGZPlx8FezK"
      }
    },
    {
      "cell_type": "markdown",
      "source": [
        "## Part 1: Python Basics\n",
        "### Variables and Data Types\n",
        "- Strings\n",
        "- Integers\n",
        "- Floats\n",
        "- Booleans\n",
        "\n",
        "Run the following examples and try out your own!\n"
      ],
      "metadata": {
        "id": "4Rmkr_W2IIY4"
      }
    },
    {
      "cell_type": "code",
      "execution_count": 10,
      "metadata": {
        "colab": {
          "base_uri": "https://localhost:8080/"
        },
        "id": "ZCSwP7a0D23O",
        "outputId": "197d4ad3-4997-4f27-9e62-a91c70cc3c3d"
      },
      "outputs": [
        {
          "output_type": "stream",
          "name": "stdout",
          "text": [
            "Name: John Doe, Age: 25, Salary: 55000.5, Employed: True\n"
          ]
        }
      ],
      "source": [
        "# Example 1: Variables and Data Types\n",
        "name = \"John Doe\"  # String\n",
        "age = 25  # Integer\n",
        "salary = 55000.50  # Float\n",
        "is_employed = True  # Boolean\n",
        "\n",
        "# Print these variables\n",
        "print(f\"Name: {name}, Age: {age}, Salary: {salary}, Employed: {is_employed}\")\n"
      ]
    },
    {
      "cell_type": "markdown",
      "source": [
        "## Part 2: Input and Output\n",
        "- Learn how to take input and display output.\n"
      ],
      "metadata": {
        "id": "3X-xRiwIFj17"
      }
    },
    {
      "cell_type": "code",
      "source": [
        "# Input and Output Example\n",
        "user_name = input(\"What is your name? \")\n",
        "print(f\"Hello, {user_name}!\")"
      ],
      "metadata": {
        "colab": {
          "base_uri": "https://localhost:8080/"
        },
        "id": "NfjfV75fFmt8",
        "outputId": "ee5786d3-36e4-4664-ac22-1043036f7d19"
      },
      "execution_count": 9,
      "outputs": [
        {
          "output_type": "stream",
          "name": "stdout",
          "text": [
            "What is your name? Tanisha\n",
            "Hello, Tanisha!\n"
          ]
        }
      ]
    },
    {
      "cell_type": "markdown",
      "source": [
        "## Part 3: Control Flow\n",
        "- Learn `if`, `elif`, `else` statements and loops."
      ],
      "metadata": {
        "id": "ck9ZP6DgFjlU"
      }
    },
    {
      "cell_type": "code",
      "source": [
        "# Control Flow Example\n",
        "number = int(input(\"Enter a number: \"))\n",
        "if number > 0:\n",
        "    print(\"The number is positive.\")\n",
        "elif number < 0:\n",
        "    print(\"The number is negative.\")\n",
        "else:\n",
        "    print(\"The number is zero.\")\n"
      ],
      "metadata": {
        "colab": {
          "base_uri": "https://localhost:8080/"
        },
        "id": "wZPQbhVsFwDA",
        "outputId": "5d84e585-e414-4020-cf50-b7ccb7529f0f"
      },
      "execution_count": 7,
      "outputs": [
        {
          "output_type": "stream",
          "name": "stdout",
          "text": [
            "Enter a number: -11\n",
            "The number is negative.\n"
          ]
        }
      ]
    },
    {
      "cell_type": "code",
      "source": [
        "# Loop Example\n",
        "for i in range(1, 6):\n",
        "    print(f\"This is loop iteration {i}\")\n"
      ],
      "metadata": {
        "colab": {
          "base_uri": "https://localhost:8080/"
        },
        "id": "vGtujlBLFzfx",
        "outputId": "285f2d1e-bd8b-4c9d-c55f-d58ad01dd326"
      },
      "execution_count": 8,
      "outputs": [
        {
          "output_type": "stream",
          "name": "stdout",
          "text": [
            "This is loop iteration 1\n",
            "This is loop iteration 2\n",
            "This is loop iteration 3\n",
            "This is loop iteration 4\n",
            "This is loop iteration 5\n"
          ]
        }
      ]
    },
    {
      "cell_type": "markdown",
      "source": [
        "## Part 4: Functions\n",
        "- Learn how to write reusable code using functions."
      ],
      "metadata": {
        "id": "10xZOxeEFts-"
      }
    },
    {
      "cell_type": "code",
      "source": [
        "# Function Example\n",
        "def greet_user(name):\n",
        "    return f\"Hello, {name}!\"\n",
        "\n",
        "user_name = input(\"Enter your name: \")\n",
        "print(greet_user(user_name))\n"
      ],
      "metadata": {
        "colab": {
          "base_uri": "https://localhost:8080/"
        },
        "id": "OQP7SMVOF3K2",
        "outputId": "26c50630-ea44-493e-d81d-d9900612f31a"
      },
      "execution_count": 6,
      "outputs": [
        {
          "output_type": "stream",
          "name": "stdout",
          "text": [
            "Enter your name: Tanisha\n",
            "Hello, Tanisha!\n"
          ]
        }
      ]
    },
    {
      "cell_type": "markdown",
      "source": [
        "# Lab 1: Monthly Expenses Calculator\n",
        "\n",
        "## Instructions:\n",
        "1. Create a program that calculates total monthly expenses.\n",
        "2. Take user input for expense categories like rent, groceries, etc.\n",
        "3. Sum up the expenses and display the total.\n",
        "\n",
        "---\n",
        "\n",
        "\n"
      ],
      "metadata": {
        "id": "l3mnKnZaF3jq"
      }
    },
    {
      "cell_type": "code",
      "source": [
        "# Lab 1: Monthly Expenses Calculator test_rent, test_groceries, test_utilities, test_others = 1000, 300, 150, 50\n",
        "def calculate_expenses():\n",
        "    rent = float(input(\"Enter rent expense: \"))\n",
        "    groceries = float(input(\"Enter groceries expense: \"))\n",
        "    utilities = float(input(\"Enter utilities expense: \"))\n",
        "    others = float(input(\"Enter other expenses: \"))\n",
        "    total = rent + groceries + utilities + others\n",
        "    print(f\"Your total monthly expenses are: ${total:.2f}\")\n",
        "\n",
        "calculate_expenses()\n"
      ],
      "metadata": {
        "colab": {
          "base_uri": "https://localhost:8080/"
        },
        "id": "wP5pIxb7F3IY",
        "outputId": "9626a81d-f061-4794-cc87-d6a2d33a72d4"
      },
      "execution_count": 4,
      "outputs": [
        {
          "output_type": "stream",
          "name": "stdout",
          "text": [
            "Enter rent expense: 2500\n",
            "Enter groceries expense: 390\n",
            "Enter utilities expense: 1000\n",
            "Enter other expenses: 200\n",
            "Your total monthly expenses are: $4090.00\n"
          ]
        }
      ]
    },
    {
      "cell_type": "markdown",
      "source": [
        "# Lab 2: To-Do List Program\n",
        "\n",
        "## Instructions:\n",
        "1. Create a program that allows the user to manage a simple to-do list.\n",
        "2. Provide options to add, view, or remove tasks.\n",
        "3. Display the updated list after each action."
      ],
      "metadata": {
        "id": "iFzOf2E0GCOB"
      }
    },
    {
      "cell_type": "code",
      "source": [
        "# Lab 2: To-Do List Program\n",
        "def todo_list_program():\n",
        "    todo_list = []\n",
        "    while True:\n",
        "        print(\"\\nOptions:\")\n",
        "        print(\"1. Add Task\")\n",
        "        print(\"2. View Tasks\")\n",
        "        print(\"3. Remove Task\")\n",
        "        print(\"4. Exit\")\n",
        "        choice = input(\"Choose an option (1-4): \")\n",
        "\n",
        "        if choice == '1':\n",
        "            task = input(\"Enter a task: \")\n",
        "            todo_list.append(task)\n",
        "            print(\"Task added.\\n\", todo_list)\n",
        "        elif choice == '2':\n",
        "            print(\"Your To-Do List:\")\n",
        "            for idx, task in enumerate(todo_list, start=1):\n",
        "                print(f\"{idx}. {task}\")\n",
        "        elif choice == '3':\n",
        "            print(\"Your To-Do List:\")\n",
        "            for idx, task in enumerate(todo_list, start=1):\n",
        "                print(f\"{idx}. {task}\")\n",
        "            task_num = int(input(\"Enter the task number to remove: \"))\n",
        "            if 0 < task_num <= len(todo_list):\n",
        "                removed_task = todo_list.pop(task_num - 1)\n",
        "                print(f\"Removed task: {removed_task}\")\n",
        "            else:\n",
        "                print(\"Invalid task number.\")\n",
        "        elif choice == '4':\n",
        "            print(\"Exiting program. Goodbye!\")\n",
        "            break\n",
        "        else:\n",
        "            print(\"Invalid option. Try again.\")\n",
        "\n",
        "todo_list_program()\n"
      ],
      "metadata": {
        "colab": {
          "base_uri": "https://localhost:8080/"
        },
        "id": "d9KwDPuNF20P",
        "outputId": "13e4809c-b599-4e6b-fa48-15a0e601a45d"
      },
      "execution_count": 5,
      "outputs": [
        {
          "output_type": "stream",
          "name": "stdout",
          "text": [
            "\n",
            "Options:\n",
            "1. Add Task\n",
            "2. View Tasks\n",
            "3. Remove Task\n",
            "4. Exit\n",
            "Choose an option (1-4): 1\n",
            "Enter a task: Do laundry\n",
            "Task added.\n",
            " ['Do laundry']\n",
            "\n",
            "Options:\n",
            "1. Add Task\n",
            "2. View Tasks\n",
            "3. Remove Task\n",
            "4. Exit\n",
            "Choose an option (1-4): 1\n",
            "Enter a task: Take out trash\n",
            "Task added.\n",
            " ['Do laundry', 'Take out trash']\n",
            "\n",
            "Options:\n",
            "1. Add Task\n",
            "2. View Tasks\n",
            "3. Remove Task\n",
            "4. Exit\n",
            "Choose an option (1-4): 2\n",
            "Your To-Do List:\n",
            "1. Do laundry\n",
            "2. Take out trash\n",
            "\n",
            "Options:\n",
            "1. Add Task\n",
            "2. View Tasks\n",
            "3. Remove Task\n",
            "4. Exit\n",
            "Choose an option (1-4): 1\n",
            "Enter a task: Wash dishes\n",
            "Task added.\n",
            " ['Do laundry', 'Take out trash', 'Wash dishes']\n",
            "\n",
            "Options:\n",
            "1. Add Task\n",
            "2. View Tasks\n",
            "3. Remove Task\n",
            "4. Exit\n",
            "Choose an option (1-4): 3\n",
            "Your To-Do List:\n",
            "1. Do laundry\n",
            "2. Take out trash\n",
            "3. Wash dishes\n",
            "Enter the task number to remove: 3\n",
            "Removed task: Wash dishes\n",
            "\n",
            "Options:\n",
            "1. Add Task\n",
            "2. View Tasks\n",
            "3. Remove Task\n",
            "4. Exit\n",
            "Choose an option (1-4): 4\n",
            "Exiting program. Goodbye!\n"
          ]
        }
      ]
    },
    {
      "cell_type": "markdown",
      "source": [
        "# Homework\n",
        "1. Write a Python program that:\n",
        "   - Takes a list of numbers from the user.\n",
        "   - Calculates the sum, average, maximum, and minimum of the numbers.\n",
        "\n",
        "2. Write a program to simulate a basic calculator:\n",
        "   - Allow the user to perform addition, subtraction, multiplication, and division.\n"
      ],
      "metadata": {
        "id": "iutwHR8GGQEX"
      }
    },
    {
      "cell_type": "code",
      "source": [
        "# Function to check the Monthly Expenses Calculator\n",
        "def check_calculate_expenses():\n",
        "    test_rent, test_groceries, test_utilities, test_others = 1000, 300, 150, 50\n",
        "    expected_total = test_rent + test_groceries + test_utilities + test_others\n",
        "\n",
        "    # Simulate inputs\n",
        "    print(\"Testing Monthly Expenses Calculator...\")\n",
        "    user_total = calculate_expenses(test_rent, test_groceries, test_utilities, test_others)\n",
        "\n",
        "    if user_total == expected_total:\n",
        "        print(\"Test passed!\")\n",
        "    else:\n",
        "        print(f\"Test failed. Expected: {expected_total}, Got: {user_total}\")"
      ],
      "metadata": {
        "id": "7tnB1xV3GM3D"
      },
      "execution_count": null,
      "outputs": []
    },
    {
      "cell_type": "code",
      "source": [
        "\n",
        "# Function to check To-Do List Program\n",
        "def check_todo_list_program():\n",
        "    print(\"Testing To-Do List Program...\")\n",
        "    todo_list = [\"Task 1\", \"Task 2\", \"Task 3\"]\n",
        "\n",
        "    # Simulate user interactions\n",
        "    add_task(todo_list, \"Task 4\")\n",
        "    if len(todo_list) != 4 or todo_list[-1] != \"Task 4\":\n",
        "        print(\"Test failed on adding task.\")\n",
        "        return\n",
        "\n",
        "    remove_task(todo_list, 1)\n",
        "    if len(todo_list) != 3 or todo_list[0] != \"Task 2\":\n",
        "        print(\"Test failed on removing task.\")\n",
        "        return\n",
        "\n",
        "    print(\"All tests passed!\")"
      ],
      "metadata": {
        "id": "05nyCWOkGZnM"
      },
      "execution_count": null,
      "outputs": []
    }
  ]
}